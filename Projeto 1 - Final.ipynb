{
 "cells": [
  {
   "cell_type": "markdown",
   "metadata": {},
   "source": [
    "___\n",
    "# Ciência dos Dados - PROJETO 1"
   ]
  },
  {
   "cell_type": "markdown",
   "metadata": {},
   "source": [
    "## BRUNO  TRICATE MALTA"
   ]
  },
  {
   "cell_type": "markdown",
   "metadata": {},
   "source": [
    "## Quanto a renda per capta influencia no acesso que os habitantes têm à alimentação saudável?"
   ]
  },
  {
   "cell_type": "markdown",
   "metadata": {},
   "source": [
    "___\n",
    "## Introdução\n",
    "\n",
    "   Nesta projeto pretendo analisar como o IDH e a renda per capta influenciam o acesso que as pessoas tem a uma alimentação saudável. Para obter meus resultados irei comparar a resposta de algumas perguntas dos cinco estados com maior IDH do país, e assim tirar conclusões. \n"
   ]
  },
  {
   "cell_type": "markdown",
   "metadata": {},
   "source": [
    "___\n",
    "## Análise e Resultados"
   ]
  },
  {
   "cell_type": "code",
   "execution_count": 130,
   "metadata": {
    "collapsed": true
   },
   "outputs": [],
   "source": [
    "%matplotlib inline\n",
    "import pandas as pd\n",
    "import matplotlib.pyplot as plt\n",
    "import numpy as np\n",
    "import os"
   ]
  },
  {
   "cell_type": "code",
   "execution_count": 131,
   "metadata": {
    "collapsed": false
   },
   "outputs": [],
   "source": [
    "import os\n",
    "meu_diretorio = \"/Users/Bruno/Desktop/Insper/PROJETO/PROJETO-1---CI-NCIA-DOS-DADOS\"\n",
    "\n",
    "import pandas as pd\n",
    "dados = pd.read_csv('DOM2013.csv')\n",
    "dados_limpo = dados.loc[ : ,[\"UF\",\"V4621\",\"V4620\",\"V0224\",\"V2115\",\"V2117\",\"V2121\"]]\n",
    "\n",
    "\n",
    "dados_limpo = dados_limpo[pd.notnull(dados_limpo.UF) & pd.notnull(dados_limpo.V4621) & pd.notnull(dados_limpo.V4620) & pd.notnull(dados_limpo.V0224) & pd.notnull(dados_limpo.V2115) & pd.notnull(dados_limpo.V2117) & pd.notnull(dados_limpo.V2121)]\n",
    "\n",
    "dados_limpo.UF = dados_limpo.UF.astype('category')\n",
    "dados_limpo.UF = dados_limpo.UF.astype('category')\n",
    "dados_limpo.V4621 = dados_limpo.V4621.astype('float')\n",
    "dados_limpo.V4620 = dados_limpo.V4620.astype('float')\n",
    "dados_limpo.V0224 = dados_limpo.V0224.astype('category')\n",
    "dados_limpo.V2115 = dados_limpo.V2115.astype('category')\n",
    "dados_limpo.V2117 = dados_limpo.V2117.astype('category')\n",
    "dados_limpo.V2121 = dados_limpo.V2121.astype('category')\n",
    "\n",
    "dados_limpo.V0224.cat.categories = (['Sim','Não'])\n",
    "dados_limpo.V2115.cat.categories = (['Sim','Não'])\n",
    "dados_limpo.V2117.cat.categories = (['Sim','Não'])\n",
    "dados_limpo.V2121.cat.categories = (['Sim','Não'])\n",
    "dados_limpo.UF.cat.categories = (['Rondônia','Acre','Amazonas','Roraima','Pará','Amapá','Tocantins','Maranhão','Piauí','Ceará','Rio Grande do Norte','Paraíba','Pernambuco','Alagoas','Sergipe','Bahia','Minas Gerais','Espírito Santo','Rio de Janeiro','São Paulo','Paraná','Santa Catarina','Rio Grande do Sul','Mato Grosso do Sul','Mato Grosso','Goiás','Distrito Federal'])\n",
    "\n",
    "dados_limpo = dados_limpo.loc[(dados_limpo.UF != 'Rondônia') & (dados_limpo.UF != 'Acre') & (dados_limpo.UF != 'Amazonas') & (dados_limpo.UF != 'Roraima') & (dados_limpo.UF != 'Pará')]\n",
    "dados_limpo = dados_limpo.loc[(dados_limpo.UF != 'Amapá') & (dados_limpo.UF != 'Tocantins') & (dados_limpo.UF != 'Maranhão') & (dados_limpo.UF != 'Piauí') & (dados_limpo.UF != 'Ceará')]\n",
    "dados_limpo = dados_limpo.loc[(dados_limpo.UF != 'Rio Grande do Norte') & (dados_limpo.UF != 'Paraíba') & (dados_limpo.UF != 'Pernambuco') & (dados_limpo.UF != 'Alagoas') & (dados_limpo.UF != 'Sergipe')]\n",
    "dados_limpo = dados_limpo.loc[(dados_limpo.UF != 'Bahia') & (dados_limpo.UF != 'Minas Gerais') & (dados_limpo.UF != 'Espírito Santo') & (dados_limpo.UF != 'Rio Grande do Sul') & (dados_limpo.UF != 'Mato Grosso do Sul')]\n",
    "dados_limpo = dados_limpo.loc[(dados_limpo.UF != 'Mato Grosso') & (dados_limpo.UF != 'Goiás')]\n",
    "dados_limpo = dados_limpo.loc[dados_limpo.V4621 < 10**10] \n",
    "dados_limpo = dados_limpo.loc[dados_limpo.V4621 > 0] \n",
    "\n",
    "dados_RJ = dados_limpo[dados_limpo.UF == \"Rio de Janeiro\"] \n",
    "dados_SP = dados_limpo[dados_limpo.UF == \"São Paulo\"] \n",
    "dados_DF = dados_limpo[dados_limpo.UF == \"Distrito Federal\"] \n",
    "dados_SC = dados_limpo[dados_limpo.UF == \"Santa Catarina\"] \n",
    "dados_PR = dados_limpo[dados_limpo.UF == \"Paraná\"] \n"
   ]
  },
  {
   "cell_type": "code",
   "execution_count": 132,
   "metadata": {
    "collapsed": true
   },
   "outputs": [],
   "source": [
    "def percConvert(tab):\n",
    "  return (tab/float(tab[-1])*100).round(decimals=0)"
   ]
  },
  {
   "cell_type": "code",
   "execution_count": 133,
   "metadata": {
    "collapsed": false
   },
   "outputs": [],
   "source": [
    "\n",
    "ct4=pd.crosstab(dados_limpo.UF,dados_limpo.V2115,margins=True,rownames=['Educação'], colnames=['Default']).apply(percConvert, axis=1)\n",
    "ct5 = pd.crosstab(dados_limpo.UF,dados_limpo.V2117,margins=True,rownames=['Educação'], colnames=['Default']).apply(percConvert, axis=1)\n",
    "ct6 = pd.crosstab(dados_limpo.UF,dados_limpo.V2121,margins=True,rownames=['Educação'], colnames=['Default']).apply(percConvert, axis=1)"
   ]
  },
  {
   "cell_type": "code",
   "execution_count": 134,
   "metadata": {
    "collapsed": false
   },
   "outputs": [
    {
     "name": "stdout",
     "output_type": "stream",
     "text": [
      "ess\n"
     ]
    },
    {
     "data": {
      "text/plain": [
       "<matplotlib.legend.Legend at 0x1f90301dbe0>"
      ]
     },
     "execution_count": 134,
     "metadata": {},
     "output_type": "execute_result"
    },
    {
     "data": {
      "image/png": "[encoded data removed]",
      "text/plain": [
       "<matplotlib.figure.Figure at 0x1f9020b4908>"
      ]
     },
     "metadata": {},
     "output_type": "display_data"
    },
    {
     "data": {
      "image/png": "[encoded data removed]",
      "text/plain": [
       "<matplotlib.figure.Figure at 0x1f90331aef0>"
      ]
     },
     "metadata": {},
     "output_type": "display_data"
    },
    {
     "data": {
      "image/png": "[encoded data removed]",
      "text/plain": [
       "<matplotlib.figure.Figure at 0x1f90331acc0>"
      ]
     },
     "metadata": {},
     "output_type": "display_data"
    }
   ],
   "source": [
    "ct4 = ct4.iloc[[18,20,26,21,19],0:2]\n",
    "plot = ct4.plot(kind='bar', stacked=True,title='Comeu menos do que achou que devia \\n porque não havia dinheiro para comprar comida')\n",
    "plot.set_ylim([0, 100])\n",
    "plt.ylabel('Freq.Relativa (em%)')\n",
    "#Para legenda ficar fora do gráfico\n",
    "ax = plt.subplot(111)\n",
    "box = ax.get_position()\n",
    "ax.set_position([box.x0, box.y0, box.width * 0.8, box.height])\n",
    "ax.legend(loc='center left', bbox_to_anchor=(1, 0.5))\n",
    "\n",
    "\n",
    "ct5 = ct5.iloc[[18,20,26,21,19],0:2]\n",
    "plot = ct5.plot(kind='bar', stacked=True,title='Sentiu fome mas não comeu \\n porque não havia dinheiro para comprar comida')\n",
    "plot.set_ylim([0, 100])\n",
    "plt.ylabel('Freq.Relativa (em%)')\n",
    "#Para legenda ficar fora do gráfico\n",
    "ax = plt.subplot(111)\n",
    "box = ax.get_position()\n",
    "ax.set_position([box.x0, box.y0, box.width * 0.8, box.height])\n",
    "ax.legend(loc='center left', bbox_to_anchor=(1, 0.5))\n",
    "\n",
    "ct6 = ct6.iloc[[18,20,26,21,19],0:2]\n",
    "plot = ct6.plot(kind='bar',stacked=True,title='Fez uma refeição ou ficou um dia inteiro sem comer \\n porque não havia dinheiro para comprar comida')\n",
    "plot.set_ylim([0, 100])\n",
    "plt.ylabel('Freq.Relativa (em%)')\n",
    "#Para legenda ficar fora do gráfico\n",
    "ax = plt.subplot(111)\n",
    "box = ax.get_position()\n",
    "ax.set_position([box.x0, box.y0, box.width * 0.8, box.height])\n",
    "ax.legend(loc='center left', bbox_to_anchor=(1, 0.5))\n",
    "\n",
    "\n",
    "\n",
    "\n",
    "\n"
   ]
  },
  {
   "cell_type": "code",
   "execution_count": null,
   "metadata": {
    "collapsed": false
   },
   "outputs": [],
   "source": []
  },
  {
   "cell_type": "code",
   "execution_count": 135,
   "metadata": {
    "collapsed": false
   },
   "outputs": [
    {
     "name": "stdout",
     "output_type": "stream",
     "text": [
      "A média da renda do Distrito Federal é:\n",
      "714.4333333333333\n",
      "A média da renda do São Paulo é:\n",
      "686.8541666666666\n",
      "A média da renda do Rio de Janeiro é:\n",
      "665.0643598615917\n",
      "A média da renda do Santa Catarina é:\n",
      "842.2305475504322\n",
      "A média da renda do Paraná é:\n",
      "661.1512513601741\n"
     ]
    }
   ],
   "source": [
    "print(\"A média da renda do Distrito Federal é:\")\n",
    "print(dados_DF.V4621.mean())\n",
    "\n",
    "print(\"A média da renda do São Paulo é:\")\n",
    "print(dados_SP.V4621.mean())\n",
    "\n",
    "print(\"A média da renda do Rio de Janeiro é:\")\n",
    "print(dados_RJ.V4621.mean())\n",
    "\n",
    "print(\"A média da renda do Santa Catarina é:\")\n",
    "print(dados_SC.V4621.mean())\n",
    "\n",
    "print(\"A média da renda do Paraná é:\")\n",
    "print(dados_PR.V4621.mean())"
   ]
  },
  {
   "cell_type": "code",
   "execution_count": null,
   "metadata": {
    "collapsed": false
   },
   "outputs": [],
   "source": []
  },
  {
   "cell_type": "code",
   "execution_count": null,
   "metadata": {
    "collapsed": false
   },
   "outputs": [],
   "source": []
  },
  {
   "cell_type": "markdown",
   "metadata": {},
   "source": [
    "___\n",
    "## Conclusão "
   ]
  },
  {
   "cell_type": "markdown",
   "metadata": {
    "collapsed": true
   },
   "source": [
    "Descreva aqui suas conclusões!"
   ]
  },
  {
   "cell_type": "markdown",
   "metadata": {
    "collapsed": true
   },
   "source": [
    "   Os gráficos e valores obtidos forneceram informações muito necessárias para a conclusão do projeto. De acordo com tais gráficos, o acesso à alimentação segue a ordem abaixo relacionada.\n",
    "   O Distrito Federal aparece no topo da lista, uma vez que os resultados apontam que, em frequência relativa, os habitantes deste estado têm maior acesso aos alimentos.\n",
    "   \n",
    "1º - Distrito Federal \n",
    "2º - Rio de Janeiro\n",
    "3º - Paraná\n",
    "4º - Santa Catarina\n",
    "5º - São Paulo\n",
    "\n",
    "A ordem dos estados com maior média de renda per capta, curiosamente, não condiz com a ordem acima. Desta maneira é possível concluir que a renda não tem uma influência direta no acesso a alimentação. Da mesma forma, se utilizarmos um índice externo, como por exemplo o IDH, cujo cálculo leva em conta a renda, educação e saúde, a ordem dos estados com maior IDH no país também não condiz com a sequência obtida na análise dos gráficos."
   ]
  },
  {
   "cell_type": "code",
   "execution_count": null,
   "metadata": {
    "collapsed": true
   },
   "outputs": [],
   "source": []
  }
 ],
 "metadata": {
  "anaconda-cloud": {},
  "kernelspec": {
   "display_name": "Python 3",
   "language": "python",
   "name": "python3"
  },
  "language_info": {
   "codemirror_mode": {
    "name": "ipython",
    "version": 3
   },
   "file_extension": ".py",
   "mimetype": "text/x-python",
   "name": "python",
   "nbconvert_exporter": "python",
   "pygments_lexer": "ipython3",
   "version": "3.6.0"
  }
 },
 "nbformat": 4,
 "nbformat_minor": 1
}
